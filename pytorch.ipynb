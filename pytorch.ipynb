{
  "nbformat": 4,
  "nbformat_minor": 0,
  "metadata": {
    "colab": {
      "provenance": [],
      "gpuType": "T4"
    },
    "kernelspec": {
      "name": "python3",
      "display_name": "Python 3"
    },
    "language_info": {
      "name": "python"
    },
    "accelerator": "GPU"
  },
  "cells": [
    {
      "cell_type": "code",
      "execution_count": 1,
      "metadata": {
        "id": "-dgc1sMZyfmU"
      },
      "outputs": [],
      "source": [
        "import torch"
      ]
    },
    {
      "cell_type": "code",
      "source": [
        "print(torch.__version__)"
      ],
      "metadata": {
        "colab": {
          "base_uri": "https://localhost:8080/"
        },
        "id": "I_NRRhU_zBma",
        "outputId": "1dd885ac-d931-4dcc-a28a-dc6221ecd3bf"
      },
      "execution_count": 2,
      "outputs": [
        {
          "output_type": "stream",
          "name": "stdout",
          "text": [
            "2.6.0+cu124\n"
          ]
        }
      ]
    },
    {
      "cell_type": "code",
      "source": [
        "!nvidia-smi  ###cuda version"
      ],
      "metadata": {
        "colab": {
          "base_uri": "https://localhost:8080/"
        },
        "id": "CHzbEBUXpxwm",
        "outputId": "44ca0cff-9531-4823-b6a2-b3c3cfe54d4e"
      },
      "execution_count": 3,
      "outputs": [
        {
          "output_type": "stream",
          "name": "stdout",
          "text": [
            "Thu Mar 27 01:10:48 2025       \n",
            "+-----------------------------------------------------------------------------------------+\n",
            "| NVIDIA-SMI 550.54.15              Driver Version: 550.54.15      CUDA Version: 12.4     |\n",
            "|-----------------------------------------+------------------------+----------------------+\n",
            "| GPU  Name                 Persistence-M | Bus-Id          Disp.A | Volatile Uncorr. ECC |\n",
            "| Fan  Temp   Perf          Pwr:Usage/Cap |           Memory-Usage | GPU-Util  Compute M. |\n",
            "|                                         |                        |               MIG M. |\n",
            "|=========================================+========================+======================|\n",
            "|   0  Tesla T4                       Off |   00000000:00:04.0 Off |                    0 |\n",
            "| N/A   58C    P8             10W /   70W |       0MiB /  15360MiB |      0%      Default |\n",
            "|                                         |                        |                  N/A |\n",
            "+-----------------------------------------+------------------------+----------------------+\n",
            "                                                                                         \n",
            "+-----------------------------------------------------------------------------------------+\n",
            "| Processes:                                                                              |\n",
            "|  GPU   GI   CI        PID   Type   Process name                              GPU Memory |\n",
            "|        ID   ID                                                               Usage      |\n",
            "|=========================================================================================|\n",
            "|  No running processes found                                                             |\n",
            "+-----------------------------------------------------------------------------------------+\n"
          ]
        }
      ]
    },
    {
      "cell_type": "code",
      "source": [
        "###to check gpu\n",
        "if torch.cuda.is_available():\n",
        "  print(torch.cuda.get_device_name(0))\n",
        "  print('cuda')"
      ],
      "metadata": {
        "colab": {
          "base_uri": "https://localhost:8080/"
        },
        "id": "Rd38ZcaksY7b",
        "outputId": "f257c232-d092-4722-f6e5-85c876a82832"
      },
      "execution_count": 4,
      "outputs": [
        {
          "output_type": "stream",
          "name": "stdout",
          "text": [
            "Tesla T4\n",
            "cuda\n"
          ]
        }
      ]
    },
    {
      "cell_type": "code",
      "source": [
        "torch.empty(2,3)####matrix of 2 rows and 3 columns This empty is filling the matrix with any values. picking garbage value from memory.Its an empty array which can be filled later"
      ],
      "metadata": {
        "colab": {
          "base_uri": "https://localhost:8080/"
        },
        "id": "0o3nwrrI_IvV",
        "outputId": "9fe3390b-8289-4ae5-f85b-3247b06cfa48"
      },
      "execution_count": 5,
      "outputs": [
        {
          "output_type": "execute_result",
          "data": {
            "text/plain": [
              "tensor([[-1.1119e-07,  4.5521e-41, -1.1051e-07],\n",
              "        [ 4.5521e-41, -1.1119e-07,  4.5521e-41]])"
            ]
          },
          "metadata": {},
          "execution_count": 5
        }
      ]
    },
    {
      "cell_type": "code",
      "source": [
        "a=torch.empty(2,3)"
      ],
      "metadata": {
        "id": "cuc0DyKwtLYC"
      },
      "execution_count": 6,
      "outputs": []
    },
    {
      "cell_type": "code",
      "source": [
        "a"
      ],
      "metadata": {
        "colab": {
          "base_uri": "https://localhost:8080/"
        },
        "id": "HwM2SVtL_sbt",
        "outputId": "c3df6c30-4561-4a9f-f254-034c8d0756da"
      },
      "execution_count": 7,
      "outputs": [
        {
          "output_type": "execute_result",
          "data": {
            "text/plain": [
              "tensor([[0., 0., 0.],\n",
              "        [0., 0., 0.]])"
            ]
          },
          "metadata": {},
          "execution_count": 7
        }
      ]
    },
    {
      "cell_type": "code",
      "source": [
        "type(a) ####pytorch works on tensor"
      ],
      "metadata": {
        "colab": {
          "base_uri": "https://localhost:8080/"
        },
        "id": "BZbq67_Y_v3C",
        "outputId": "db7e9590-42be-4743-d47f-0e662138daa4"
      },
      "execution_count": 8,
      "outputs": [
        {
          "output_type": "execute_result",
          "data": {
            "text/plain": [
              "torch.Tensor"
            ]
          },
          "metadata": {},
          "execution_count": 8
        }
      ]
    },
    {
      "cell_type": "code",
      "source": [
        "a.fill_(0) #### thus we filled the tensor with zeo"
      ],
      "metadata": {
        "colab": {
          "base_uri": "https://localhost:8080/"
        },
        "id": "4H4UVSLN_7Pf",
        "outputId": "857cb047-b917-4a2a-8b70-1c74c2ee73c5"
      },
      "execution_count": 9,
      "outputs": [
        {
          "output_type": "execute_result",
          "data": {
            "text/plain": [
              "tensor([[0., 0., 0.],\n",
              "        [0., 0., 0.]])"
            ]
          },
          "metadata": {},
          "execution_count": 9
        }
      ]
    },
    {
      "cell_type": "code",
      "source": [
        "torch.zeros(2,3) #### to check the zero matrix"
      ],
      "metadata": {
        "colab": {
          "base_uri": "https://localhost:8080/"
        },
        "id": "RczR8Y6rAQAT",
        "outputId": "6730a81d-c308-4f5f-a268-4598f657b469"
      },
      "execution_count": 10,
      "outputs": [
        {
          "output_type": "execute_result",
          "data": {
            "text/plain": [
              "tensor([[0., 0., 0.],\n",
              "        [0., 0., 0.]])"
            ]
          },
          "metadata": {},
          "execution_count": 10
        }
      ]
    },
    {
      "cell_type": "code",
      "source": [
        "###for one matrix\n",
        "torch.ones(2,3)"
      ],
      "metadata": {
        "colab": {
          "base_uri": "https://localhost:8080/"
        },
        "id": "yLlAeCJeAfTy",
        "outputId": "268e8820-abfe-4f3f-f1d4-cc682e8ae3c8"
      },
      "execution_count": 11,
      "outputs": [
        {
          "output_type": "execute_result",
          "data": {
            "text/plain": [
              "tensor([[1., 1., 1.],\n",
              "        [1., 1., 1.]])"
            ]
          },
          "metadata": {},
          "execution_count": 11
        }
      ]
    },
    {
      "cell_type": "code",
      "source": [
        "torch.rand(3,4) #####random"
      ],
      "metadata": {
        "colab": {
          "base_uri": "https://localhost:8080/"
        },
        "id": "CduZT2a6Kn5R",
        "outputId": "794c94ab-4397-4894-975d-2431d3100e3f"
      },
      "execution_count": 12,
      "outputs": [
        {
          "output_type": "execute_result",
          "data": {
            "text/plain": [
              "tensor([[0.9661, 0.1773, 0.0027, 0.7614],\n",
              "        [0.4233, 0.3990, 0.0159, 0.0387],\n",
              "        [0.7574, 0.0729, 0.9387, 0.8360]])"
            ]
          },
          "metadata": {},
          "execution_count": 12
        }
      ]
    },
    {
      "cell_type": "code",
      "source": [
        "torch.rand(3,4) #### every time it will give different values"
      ],
      "metadata": {
        "colab": {
          "base_uri": "https://localhost:8080/"
        },
        "id": "hnVeXCv1KvIg",
        "outputId": "d03fd184-a2d7-4d87-cf2f-27f7faafe3ec"
      },
      "execution_count": 13,
      "outputs": [
        {
          "output_type": "execute_result",
          "data": {
            "text/plain": [
              "tensor([[0.7285, 0.5009, 0.6814, 0.0692],\n",
              "        [0.6663, 0.9502, 0.2643, 0.5152],\n",
              "        [0.4291, 0.8361, 0.2937, 0.7816]])"
            ]
          },
          "metadata": {},
          "execution_count": 13
        }
      ]
    },
    {
      "cell_type": "code",
      "source": [
        "torch.manual_seed(10) ######to get same value\n",
        "torch.rand(3,4)"
      ],
      "metadata": {
        "colab": {
          "base_uri": "https://localhost:8080/"
        },
        "id": "yA_Jm7y4K6EI",
        "outputId": "44531924-b7bc-4d92-bd38-d1f0b210ad00"
      },
      "execution_count": 14,
      "outputs": [
        {
          "output_type": "execute_result",
          "data": {
            "text/plain": [
              "tensor([[0.4581, 0.4829, 0.3125, 0.6150],\n",
              "        [0.2139, 0.4118, 0.6938, 0.9693],\n",
              "        [0.6178, 0.3304, 0.5479, 0.4440]])"
            ]
          },
          "metadata": {},
          "execution_count": 14
        }
      ]
    },
    {
      "cell_type": "code",
      "source": [
        "torch.manual_seed(10)\n",
        "torch.rand(3,4)"
      ],
      "metadata": {
        "colab": {
          "base_uri": "https://localhost:8080/"
        },
        "outputId": "0b5ea82d-1df0-4acb-a8d4-d64762b12e8d",
        "id": "1w3qxICiLChu"
      },
      "execution_count": 15,
      "outputs": [
        {
          "output_type": "execute_result",
          "data": {
            "text/plain": [
              "tensor([[0.4581, 0.4829, 0.3125, 0.6150],\n",
              "        [0.2139, 0.4118, 0.6938, 0.9693],\n",
              "        [0.6178, 0.3304, 0.5479, 0.4440]])"
            ]
          },
          "metadata": {},
          "execution_count": 15
        }
      ]
    },
    {
      "cell_type": "code",
      "source": [
        "torch.manual_seed(11)\n",
        "torch.rand(3,4)"
      ],
      "metadata": {
        "colab": {
          "base_uri": "https://localhost:8080/"
        },
        "id": "6IU3YWWjLVXg",
        "outputId": "6ce9ed4c-f10c-4cf9-ec76-15a912879324"
      },
      "execution_count": 16,
      "outputs": [
        {
          "output_type": "execute_result",
          "data": {
            "text/plain": [
              "tensor([[0.1490, 0.4866, 0.9857, 0.1684],\n",
              "        [0.5839, 0.6936, 0.5831, 0.1284],\n",
              "        [0.5721, 0.9248, 0.2693, 0.7825]])"
            ]
          },
          "metadata": {},
          "execution_count": 16
        }
      ]
    },
    {
      "cell_type": "code",
      "source": [
        "torch.tensor([[1,2,3],[3,4,5]]) ### creating custom tensor"
      ],
      "metadata": {
        "colab": {
          "base_uri": "https://localhost:8080/"
        },
        "id": "QmsqtlI0LywH",
        "outputId": "81da4317-646d-412f-f200-a9f7f3737dc3"
      },
      "execution_count": 17,
      "outputs": [
        {
          "output_type": "execute_result",
          "data": {
            "text/plain": [
              "tensor([[1, 2, 3],\n",
              "        [3, 4, 5]])"
            ]
          },
          "metadata": {},
          "execution_count": 17
        }
      ]
    },
    {
      "cell_type": "code",
      "source": [
        "torch.arange(10) ##### numbers0-9"
      ],
      "metadata": {
        "colab": {
          "base_uri": "https://localhost:8080/"
        },
        "id": "w8jV6W2iMCEf",
        "outputId": "23de43bb-5959-4e31-b114-772ffa89b62b"
      },
      "execution_count": 18,
      "outputs": [
        {
          "output_type": "execute_result",
          "data": {
            "text/plain": [
              "tensor([0, 1, 2, 3, 4, 5, 6, 7, 8, 9])"
            ]
          },
          "metadata": {},
          "execution_count": 18
        }
      ]
    },
    {
      "cell_type": "code",
      "source": [
        "torch.arange(3,9) ####always excluding last number"
      ],
      "metadata": {
        "colab": {
          "base_uri": "https://localhost:8080/"
        },
        "id": "14HHn3pUMLI_",
        "outputId": "20edd02d-fdaf-4dbc-e883-f5a08267a932"
      },
      "execution_count": 20,
      "outputs": [
        {
          "output_type": "execute_result",
          "data": {
            "text/plain": [
              "tensor([3, 4, 5, 6, 7, 8])"
            ]
          },
          "metadata": {},
          "execution_count": 20
        }
      ]
    },
    {
      "cell_type": "code",
      "source": [
        "torch.arange(1,10,2) ####jump of 2 - this is the range"
      ],
      "metadata": {
        "colab": {
          "base_uri": "https://localhost:8080/"
        },
        "id": "YjWyJtagMUrw",
        "outputId": "3b88a88e-dc07-47c5-e0c0-42efab5f45f6"
      },
      "execution_count": 21,
      "outputs": [
        {
          "output_type": "execute_result",
          "data": {
            "text/plain": [
              "tensor([1, 3, 5, 7, 9])"
            ]
          },
          "metadata": {},
          "execution_count": 21
        }
      ]
    },
    {
      "cell_type": "code",
      "source": [
        "torch.linspace(0,10,20) ####generate 20 numbers between 0 to10 -we are giving ranhge and it will generate numbers between the range -used for creating random bits"
      ],
      "metadata": {
        "colab": {
          "base_uri": "https://localhost:8080/"
        },
        "id": "X4D_RCRDMgQQ",
        "outputId": "c54258c3-d807-49bd-ae4a-2feb358a7f03"
      },
      "execution_count": 22,
      "outputs": [
        {
          "output_type": "execute_result",
          "data": {
            "text/plain": [
              "tensor([ 0.0000,  0.5263,  1.0526,  1.5789,  2.1053,  2.6316,  3.1579,  3.6842,\n",
              "         4.2105,  4.7368,  5.2632,  5.7895,  6.3158,  6.8421,  7.3684,  7.8947,\n",
              "         8.4211,  8.9474,  9.4737, 10.0000])"
            ]
          },
          "metadata": {},
          "execution_count": 22
        }
      ]
    },
    {
      "cell_type": "code",
      "source": [
        "torch.eye(5) ###identical"
      ],
      "metadata": {
        "colab": {
          "base_uri": "https://localhost:8080/"
        },
        "id": "0By5OyckMzfe",
        "outputId": "c59b5d46-282d-4bee-a036-780d34be8f3c"
      },
      "execution_count": 23,
      "outputs": [
        {
          "output_type": "execute_result",
          "data": {
            "text/plain": [
              "tensor([[1., 0., 0., 0., 0.],\n",
              "        [0., 1., 0., 0., 0.],\n",
              "        [0., 0., 1., 0., 0.],\n",
              "        [0., 0., 0., 1., 0.],\n",
              "        [0., 0., 0., 0., 1.]])"
            ]
          },
          "metadata": {},
          "execution_count": 23
        }
      ]
    },
    {
      "cell_type": "code",
      "source": [
        "torch.full((3,3),5) #### 3 by 3 matrix filled with 5"
      ],
      "metadata": {
        "colab": {
          "base_uri": "https://localhost:8080/"
        },
        "id": "kBCCnr7UM4bx",
        "outputId": "21cf125b-05dd-4a52-bd49-f2a24f331d06"
      },
      "execution_count": 24,
      "outputs": [
        {
          "output_type": "execute_result",
          "data": {
            "text/plain": [
              "tensor([[5, 5, 5],\n",
              "        [5, 5, 5],\n",
              "        [5, 5, 5]])"
            ]
          },
          "metadata": {},
          "execution_count": 24
        }
      ]
    },
    {
      "cell_type": "code",
      "source": [
        "x=torch.tensor([[1,2,3],[3,4,5]])"
      ],
      "metadata": {
        "id": "1AYlpMRQNCgu"
      },
      "execution_count": 25,
      "outputs": []
    },
    {
      "cell_type": "code",
      "source": [
        "x.shape"
      ],
      "metadata": {
        "colab": {
          "base_uri": "https://localhost:8080/"
        },
        "id": "nV1IN47PNaKF",
        "outputId": "f21bc90c-fa20-4ed3-a515-535b02edf030"
      },
      "execution_count": 26,
      "outputs": [
        {
          "output_type": "execute_result",
          "data": {
            "text/plain": [
              "torch.Size([2, 3])"
            ]
          },
          "metadata": {},
          "execution_count": 26
        }
      ]
    },
    {
      "cell_type": "code",
      "source": [
        "torch.empty_like(x)"
      ],
      "metadata": {
        "colab": {
          "base_uri": "https://localhost:8080/"
        },
        "id": "QenTUnkzNdM9",
        "outputId": "2c6e955f-6c94-401d-d080-0246fc45f1f6"
      },
      "execution_count": 27,
      "outputs": [
        {
          "output_type": "execute_result",
          "data": {
            "text/plain": [
              "tensor([[7309469113269755962, 7310874250630362211, 7311068566657332339],\n",
              "        [2322206415573840754, 2459013921893135650, 2459029315949715812]])"
            ]
          },
          "metadata": {},
          "execution_count": 27
        }
      ]
    },
    {
      "cell_type": "code",
      "source": [
        "torch.zeros_like(x)"
      ],
      "metadata": {
        "colab": {
          "base_uri": "https://localhost:8080/"
        },
        "id": "X1193fcFNkS9",
        "outputId": "2fdbcc4a-3e61-45b7-b50a-0cdae0b6a1b8"
      },
      "execution_count": 28,
      "outputs": [
        {
          "output_type": "execute_result",
          "data": {
            "text/plain": [
              "tensor([[0, 0, 0],\n",
              "        [0, 0, 0]])"
            ]
          },
          "metadata": {},
          "execution_count": 28
        }
      ]
    },
    {
      "cell_type": "code",
      "source": [
        "torch.rand_like(x,dtype=torch.float32)"
      ],
      "metadata": {
        "colab": {
          "base_uri": "https://localhost:8080/"
        },
        "id": "EDoDwHt4Nqtd",
        "outputId": "871e2153-6ca1-424d-dc35-79f3469292d1"
      },
      "execution_count": 31,
      "outputs": [
        {
          "output_type": "execute_result",
          "data": {
            "text/plain": [
              "tensor([[0.2719, 0.4632, 0.7671],\n",
              "        [0.5024, 0.1025, 0.7600]])"
            ]
          },
          "metadata": {},
          "execution_count": 31
        }
      ]
    },
    {
      "cell_type": "code",
      "source": [],
      "metadata": {
        "id": "IDu4maSSO787"
      },
      "execution_count": null,
      "outputs": []
    },
    {
      "cell_type": "markdown",
      "source": [
        "| Data Type                | Dtype            | Description                                                                                      |\n",
        "|--------------------------|------------------|--------------------------------------------------------------------------------------------------|\n",
        "| 32-bit Floating Point    | `torch.float32`  | Standard floating-point type used for most deep learning tasks. Provides a balance between precision and memory usage. |\n",
        "| 64-bit Floating Point    | `torch.float64`  | Double-precision floating point. Useful for high-precision numerical tasks but uses more memory. |\n",
        "| 16-bit Floating Point    | `torch.float16`  | Half-precision floating point. Commonly used in mixed-precision training to reduce memory and computational overhead on modern GPUs. |\n",
        "| BFloat16                 | `torch.bfloat16` | Brain floating-point format with reduced precision compared to float16. Used in mixed-precision training, especially on TPUs. |\n",
        "| 8-bit Floating Point     | `torch.float8`   | Ultra-low-precision floating point. Used for experimental applications and extreme memory-constrained environments (less common). |\n",
        "| 8-bit Integer            | `torch.int8`     | 8-bit signed integer. Used for quantized models to save memory and computation in inference. |\n",
        "| 16-bit Integer           | `torch.int16`    | 16-bit signed integer. Useful for special numerical tasks requiring intermediate precision. |\n",
        "| 32-bit Integer           | `torch.int32`    | Standard signed integer type. Commonly used for indexing and general-purpose numerical tasks. |\n",
        "| 64-bit Integer           | `torch.int64`    | Long integer type. Often used for large indexing arrays or for tasks involving large numbers. |\n",
        "| 8-bit Unsigned Integer   | `torch.uint8`    | 8-bit unsigned integer. Commonly used for image data (e.g., pixel values between 0 and 255). |\n",
        "| Boolean                  | `torch.bool`     | Boolean type, stores True or False values. Often used for masks in logical operations. |\n",
        "| Complex 64               | `torch.complex64`| Complex number type with 32-bit real and 32-bit imaginary parts. Used for scientific and signal processing tasks. |\n",
        "| Complex 128              | `torch.complex128`| Complex number type with 64-bit real and 64-bit imaginary parts. Offers higher precision but uses more memory. |\n",
        "| Quantized Integer        | `torch.qint8`    | Quantized signed 8-bit integer. Used in quantized models for efficient inference. |\n",
        "| Quantized Unsigned Int   | `torch.quint8`   | Quantized unsigned 8-bit integer. Often used for quantized tensors in image-related tasks. |\n"
      ],
      "metadata": {
        "id": "gyKvH6ObPbFb"
      }
    },
    {
      "cell_type": "code",
      "source": [
        "x"
      ],
      "metadata": {
        "colab": {
          "base_uri": "https://localhost:8080/"
        },
        "id": "pQ75QhnvQCzL",
        "outputId": "318c6fbf-5f16-4a2f-a87b-0ff34d4459f0"
      },
      "execution_count": 32,
      "outputs": [
        {
          "output_type": "execute_result",
          "data": {
            "text/plain": [
              "tensor([[1, 2, 3],\n",
              "        [3, 4, 5]])"
            ]
          },
          "metadata": {},
          "execution_count": 32
        }
      ]
    },
    {
      "cell_type": "code",
      "source": [
        "x+2"
      ],
      "metadata": {
        "colab": {
          "base_uri": "https://localhost:8080/"
        },
        "id": "3ci5kGBXQQJK",
        "outputId": "6ad9ab6b-d6dd-4d4d-8cb5-82e66a9d6152"
      },
      "execution_count": 33,
      "outputs": [
        {
          "output_type": "execute_result",
          "data": {
            "text/plain": [
              "tensor([[3, 4, 5],\n",
              "        [5, 6, 7]])"
            ]
          },
          "metadata": {},
          "execution_count": 33
        }
      ]
    },
    {
      "cell_type": "code",
      "source": [
        "x-2"
      ],
      "metadata": {
        "colab": {
          "base_uri": "https://localhost:8080/"
        },
        "id": "WvBxpG0GQSJ6",
        "outputId": "b75e4559-9a66-4e4d-c36e-de08171514a8"
      },
      "execution_count": 34,
      "outputs": [
        {
          "output_type": "execute_result",
          "data": {
            "text/plain": [
              "tensor([[-1,  0,  1],\n",
              "        [ 1,  2,  3]])"
            ]
          },
          "metadata": {},
          "execution_count": 34
        }
      ]
    },
    {
      "cell_type": "code",
      "source": [
        "x*3"
      ],
      "metadata": {
        "colab": {
          "base_uri": "https://localhost:8080/"
        },
        "id": "Wf2GV-u_QUmj",
        "outputId": "c25d9ce0-0655-400d-92f0-6eb69d99301c"
      },
      "execution_count": 35,
      "outputs": [
        {
          "output_type": "execute_result",
          "data": {
            "text/plain": [
              "tensor([[ 3,  6,  9],\n",
              "        [ 9, 12, 15]])"
            ]
          },
          "metadata": {},
          "execution_count": 35
        }
      ]
    },
    {
      "cell_type": "code",
      "source": [
        "x/3"
      ],
      "metadata": {
        "colab": {
          "base_uri": "https://localhost:8080/"
        },
        "id": "eBwNTfBxQXLa",
        "outputId": "87d5d1b9-1323-4b4d-e034-d60309f93573"
      },
      "execution_count": 36,
      "outputs": [
        {
          "output_type": "execute_result",
          "data": {
            "text/plain": [
              "tensor([[0.3333, 0.6667, 1.0000],\n",
              "        [1.0000, 1.3333, 1.6667]])"
            ]
          },
          "metadata": {},
          "execution_count": 36
        }
      ]
    },
    {
      "cell_type": "code",
      "source": [
        "c=torch.tensor([1,-2,3,-4])"
      ],
      "metadata": {
        "id": "wUWViqr6Qqzp"
      },
      "execution_count": 37,
      "outputs": []
    },
    {
      "cell_type": "code",
      "source": [
        "torch.abs(c) #####absolute value(all positive that means all negative converted into positive)"
      ],
      "metadata": {
        "colab": {
          "base_uri": "https://localhost:8080/"
        },
        "id": "d0To09CSQ2lB",
        "outputId": "6db37949-a289-43e3-f988-fd65ef81ee2b"
      },
      "execution_count": 38,
      "outputs": [
        {
          "output_type": "execute_result",
          "data": {
            "text/plain": [
              "tensor([1, 2, 3, 4])"
            ]
          },
          "metadata": {},
          "execution_count": 38
        }
      ]
    },
    {
      "cell_type": "code",
      "source": [
        "torch.neg(c) ####negative"
      ],
      "metadata": {
        "colab": {
          "base_uri": "https://localhost:8080/"
        },
        "id": "254sT3SPRDX6",
        "outputId": "fbab27fc-a67b-474e-f809-c2c27cdbfd6a"
      },
      "execution_count": 39,
      "outputs": [
        {
          "output_type": "execute_result",
          "data": {
            "text/plain": [
              "tensor([-1,  2, -3,  4])"
            ]
          },
          "metadata": {},
          "execution_count": 39
        }
      ]
    },
    {
      "cell_type": "code",
      "source": [
        "d=torch.tensor([1.9,2.3,3.7,4.4])"
      ],
      "metadata": {
        "id": "1I_JRzfIRHu5"
      },
      "execution_count": 40,
      "outputs": []
    },
    {
      "cell_type": "code",
      "source": [
        "torch.round(d) ####round off"
      ],
      "metadata": {
        "colab": {
          "base_uri": "https://localhost:8080/"
        },
        "id": "c9WT8MYkRUkC",
        "outputId": "17fb777c-ba0f-4e65-9361-46d62f63e79a"
      },
      "execution_count": 41,
      "outputs": [
        {
          "output_type": "execute_result",
          "data": {
            "text/plain": [
              "tensor([2., 2., 4., 4.])"
            ]
          },
          "metadata": {},
          "execution_count": 41
        }
      ]
    },
    {
      "cell_type": "code",
      "source": [
        "torch.floor(d) ####round down before decimal"
      ],
      "metadata": {
        "colab": {
          "base_uri": "https://localhost:8080/"
        },
        "id": "9iWE3UcdReCA",
        "outputId": "9dd7ccba-c9ef-4738-a117-8ce8532dd359"
      },
      "execution_count": 42,
      "outputs": [
        {
          "output_type": "execute_result",
          "data": {
            "text/plain": [
              "tensor([1., 2., 3., 4.])"
            ]
          },
          "metadata": {},
          "execution_count": 42
        }
      ]
    },
    {
      "cell_type": "code",
      "source": [
        "torch.ceil(d) ####round up above value of decimal"
      ],
      "metadata": {
        "colab": {
          "base_uri": "https://localhost:8080/"
        },
        "id": "RBMsr6lZRgrJ",
        "outputId": "d3068dd5-33c4-4f78-addb-135141861e67"
      },
      "execution_count": 43,
      "outputs": [
        {
          "output_type": "execute_result",
          "data": {
            "text/plain": [
              "tensor([2., 3., 4., 5.])"
            ]
          },
          "metadata": {},
          "execution_count": 43
        }
      ]
    },
    {
      "cell_type": "code",
      "source": [
        "torch.randint(size=(3,4),low=0,high=10) ####random integer"
      ],
      "metadata": {
        "colab": {
          "base_uri": "https://localhost:8080/"
        },
        "id": "K0b5rihoR10i",
        "outputId": "d1a8533a-8143-4317-f39e-2339afb86ece"
      },
      "execution_count": 45,
      "outputs": [
        {
          "output_type": "execute_result",
          "data": {
            "text/plain": [
              "tensor([[8, 1, 8, 2],\n",
              "        [8, 9, 2, 3],\n",
              "        [1, 7, 0, 1]])"
            ]
          },
          "metadata": {},
          "execution_count": 45
        }
      ]
    },
    {
      "cell_type": "code",
      "source": [
        "e=torch.randint(size=(3,4),low=0,high=10, dtype=torch.float32) ####random integer"
      ],
      "metadata": {
        "id": "dkc4KP6iSOBH"
      },
      "execution_count": 47,
      "outputs": []
    },
    {
      "cell_type": "code",
      "source": [
        "torch.sum(e) ####sum of all elements"
      ],
      "metadata": {
        "colab": {
          "base_uri": "https://localhost:8080/"
        },
        "id": "QecMzNCQSXWQ",
        "outputId": "20081c4e-12c5-4bde-ab8b-64cd3179bb96"
      },
      "execution_count": 48,
      "outputs": [
        {
          "output_type": "execute_result",
          "data": {
            "text/plain": [
              "tensor(63.)"
            ]
          },
          "metadata": {},
          "execution_count": 48
        }
      ]
    },
    {
      "cell_type": "code",
      "source": [
        "torch.sum(e,dim=0) ####sum of each column"
      ],
      "metadata": {
        "colab": {
          "base_uri": "https://localhost:8080/"
        },
        "id": "JGwQe6NfSbLH",
        "outputId": "801cf577-e237-4e3e-9548-2a438eb518b1"
      },
      "execution_count": 49,
      "outputs": [
        {
          "output_type": "execute_result",
          "data": {
            "text/plain": [
              "tensor([20., 16., 12., 15.])"
            ]
          },
          "metadata": {},
          "execution_count": 49
        }
      ]
    },
    {
      "cell_type": "code",
      "source": [
        "torch.sum(e,dim=1) ###sum of each row"
      ],
      "metadata": {
        "colab": {
          "base_uri": "https://localhost:8080/"
        },
        "id": "asWLuy5sShYR",
        "outputId": "6c102797-b49d-4856-9187-b1af736a0891"
      },
      "execution_count": 50,
      "outputs": [
        {
          "output_type": "execute_result",
          "data": {
            "text/plain": [
              "tensor([32., 13., 18.])"
            ]
          },
          "metadata": {},
          "execution_count": 50
        }
      ]
    },
    {
      "cell_type": "code",
      "source": [
        "torch.mean(e, dim=0) ####mean of each column"
      ],
      "metadata": {
        "colab": {
          "base_uri": "https://localhost:8080/"
        },
        "id": "_hp_SUnJSn0B",
        "outputId": "55145fb7-ad3b-4786-b2fd-82a8b47cfd8d"
      },
      "execution_count": 51,
      "outputs": [
        {
          "output_type": "execute_result",
          "data": {
            "text/plain": [
              "tensor([6.6667, 5.3333, 4.0000, 5.0000])"
            ]
          },
          "metadata": {},
          "execution_count": 51
        }
      ]
    },
    {
      "cell_type": "code",
      "source": [
        "torch.mean(e, dim=1) ####mean of each row"
      ],
      "metadata": {
        "colab": {
          "base_uri": "https://localhost:8080/"
        },
        "id": "_QzIkychSw5n",
        "outputId": "a9daab6c-931c-4682-8e0b-bd10d87bbc1d"
      },
      "execution_count": 52,
      "outputs": [
        {
          "output_type": "execute_result",
          "data": {
            "text/plain": [
              "tensor([8.0000, 3.2500, 4.5000])"
            ]
          },
          "metadata": {},
          "execution_count": 52
        }
      ]
    },
    {
      "cell_type": "code",
      "source": [
        "torch.mean(e) ####mean of all elements"
      ],
      "metadata": {
        "colab": {
          "base_uri": "https://localhost:8080/"
        },
        "id": "8CTPQOYHS0Zx",
        "outputId": "8bc102ce-f703-41cb-a909-ff65ec038888"
      },
      "execution_count": 53,
      "outputs": [
        {
          "output_type": "execute_result",
          "data": {
            "text/plain": [
              "tensor(5.2500)"
            ]
          },
          "metadata": {},
          "execution_count": 53
        }
      ]
    },
    {
      "cell_type": "code",
      "source": [
        "torch.min(e)"
      ],
      "metadata": {
        "colab": {
          "base_uri": "https://localhost:8080/"
        },
        "id": "1OfLYeXUTAFY",
        "outputId": "a90c5790-093d-410a-94fc-05d1d3a9cd8d"
      },
      "execution_count": 54,
      "outputs": [
        {
          "output_type": "execute_result",
          "data": {
            "text/plain": [
              "tensor(1.)"
            ]
          },
          "metadata": {},
          "execution_count": 54
        }
      ]
    },
    {
      "cell_type": "code",
      "source": [
        "torch.max(e)"
      ],
      "metadata": {
        "colab": {
          "base_uri": "https://localhost:8080/"
        },
        "id": "c3t1CQpETC-e",
        "outputId": "aaeda5a0-7c21-4d86-c9bc-a6e314a7dfa5"
      },
      "execution_count": 55,
      "outputs": [
        {
          "output_type": "execute_result",
          "data": {
            "text/plain": [
              "tensor(9.)"
            ]
          },
          "metadata": {},
          "execution_count": 55
        }
      ]
    },
    {
      "cell_type": "code",
      "source": [
        "torch.argmax(e) #####it is index of highest value in matrix"
      ],
      "metadata": {
        "colab": {
          "base_uri": "https://localhost:8080/"
        },
        "id": "RtTWIRshTItR",
        "outputId": "52f56f98-d1c0-4e44-d2b0-122219305303"
      },
      "execution_count": 56,
      "outputs": [
        {
          "output_type": "execute_result",
          "data": {
            "text/plain": [
              "tensor(2)"
            ]
          },
          "metadata": {},
          "execution_count": 56
        }
      ]
    },
    {
      "cell_type": "code",
      "source": [
        "torch.argmin(e) #####it is index of minimum value in matrix"
      ],
      "metadata": {
        "colab": {
          "base_uri": "https://localhost:8080/"
        },
        "id": "k6cHQJlKTNdn",
        "outputId": "885b07d2-b37e-46da-f0aa-f974b7833d9b"
      },
      "execution_count": 58,
      "outputs": [
        {
          "output_type": "execute_result",
          "data": {
            "text/plain": [
              "tensor(5)"
            ]
          },
          "metadata": {},
          "execution_count": 58
        }
      ]
    },
    {
      "cell_type": "code",
      "source": [
        "e"
      ],
      "metadata": {
        "colab": {
          "base_uri": "https://localhost:8080/"
        },
        "id": "4y4GJKZzTdB4",
        "outputId": "5deeabdb-f6df-4ad3-ac26-d605167b19a2"
      },
      "execution_count": 59,
      "outputs": [
        {
          "output_type": "execute_result",
          "data": {
            "text/plain": [
              "tensor([[8., 7., 9., 8.],\n",
              "        [5., 1., 2., 5.],\n",
              "        [7., 8., 1., 2.]])"
            ]
          },
          "metadata": {},
          "execution_count": 59
        }
      ]
    },
    {
      "cell_type": "code",
      "source": [
        "f = torch.randint(size=(2,3), low=0, high=10)\n",
        "g = torch.randint(size=(3,2), low=0, high=10)"
      ],
      "metadata": {
        "id": "abXhvlU5Ue4P"
      },
      "execution_count": 60,
      "outputs": []
    },
    {
      "cell_type": "code",
      "source": [
        "f"
      ],
      "metadata": {
        "colab": {
          "base_uri": "https://localhost:8080/"
        },
        "id": "9GhbK2BKUgBv",
        "outputId": "c9c10583-753c-4c98-f146-2227b0f7f29e"
      },
      "execution_count": 61,
      "outputs": [
        {
          "output_type": "execute_result",
          "data": {
            "text/plain": [
              "tensor([[1, 5, 3],\n",
              "        [4, 0, 2]])"
            ]
          },
          "metadata": {},
          "execution_count": 61
        }
      ]
    },
    {
      "cell_type": "code",
      "source": [
        "g"
      ],
      "metadata": {
        "colab": {
          "base_uri": "https://localhost:8080/"
        },
        "id": "UiFV1vOFUicf",
        "outputId": "8ae22250-9353-469d-de90-95b1920bd483"
      },
      "execution_count": 62,
      "outputs": [
        {
          "output_type": "execute_result",
          "data": {
            "text/plain": [
              "tensor([[5, 2],\n",
              "        [9, 9],\n",
              "        [1, 3]])"
            ]
          },
          "metadata": {},
          "execution_count": 62
        }
      ]
    },
    {
      "cell_type": "code",
      "source": [
        "torch.matmul(f,g)######multiplication of matrix"
      ],
      "metadata": {
        "colab": {
          "base_uri": "https://localhost:8080/"
        },
        "id": "vzDkt4PEUkf_",
        "outputId": "b0690c8f-ff01-4877-c772-1f6c8bb2c1b4"
      },
      "execution_count": 63,
      "outputs": [
        {
          "output_type": "execute_result",
          "data": {
            "text/plain": [
              "tensor([[53, 56],\n",
              "        [22, 14]])"
            ]
          },
          "metadata": {},
          "execution_count": 63
        }
      ]
    },
    {
      "cell_type": "code",
      "source": [
        "vector1 = torch.tensor([1, 2])\n",
        "vector2 = torch.tensor([3, 4])"
      ],
      "metadata": {
        "id": "2-Nh0wYHVep2"
      },
      "execution_count": 64,
      "outputs": []
    },
    {
      "cell_type": "code",
      "source": [
        "vector1"
      ],
      "metadata": {
        "colab": {
          "base_uri": "https://localhost:8080/"
        },
        "id": "gRcHYbAAVmyV",
        "outputId": "1842a0e2-126b-4491-987b-6646e6aa28cf"
      },
      "execution_count": 65,
      "outputs": [
        {
          "output_type": "execute_result",
          "data": {
            "text/plain": [
              "tensor([1, 2])"
            ]
          },
          "metadata": {},
          "execution_count": 65
        }
      ]
    },
    {
      "cell_type": "code",
      "source": [
        "vector2"
      ],
      "metadata": {
        "colab": {
          "base_uri": "https://localhost:8080/"
        },
        "id": "shCtin62Vop0",
        "outputId": "76b9014e-17ad-4cd9-f5cb-3447bd67aa0c"
      },
      "execution_count": 66,
      "outputs": [
        {
          "output_type": "execute_result",
          "data": {
            "text/plain": [
              "tensor([3, 4])"
            ]
          },
          "metadata": {},
          "execution_count": 66
        }
      ]
    },
    {
      "cell_type": "code",
      "source": [
        "torch.dot(vector1,vector2)"
      ],
      "metadata": {
        "colab": {
          "base_uri": "https://localhost:8080/"
        },
        "id": "spTNLawVVqZl",
        "outputId": "603c76fb-12b7-48cd-db50-3ed8bba47b0d"
      },
      "execution_count": 67,
      "outputs": [
        {
          "output_type": "execute_result",
          "data": {
            "text/plain": [
              "tensor(11)"
            ]
          },
          "metadata": {},
          "execution_count": 67
        }
      ]
    },
    {
      "cell_type": "code",
      "source": [
        "f"
      ],
      "metadata": {
        "colab": {
          "base_uri": "https://localhost:8080/"
        },
        "id": "Y7JueAWvWDCn",
        "outputId": "0b5e4f36-8c3b-441e-8db1-9c7eb3c2c825"
      },
      "execution_count": 69,
      "outputs": [
        {
          "output_type": "execute_result",
          "data": {
            "text/plain": [
              "tensor([[1, 5, 3],\n",
              "        [4, 0, 2]])"
            ]
          },
          "metadata": {},
          "execution_count": 69
        }
      ]
    },
    {
      "cell_type": "code",
      "source": [
        "torch.transpose(f, 0,1) ###rows converted to col and col into rows[ 0 dimension means row and 1 col"
      ],
      "metadata": {
        "colab": {
          "base_uri": "https://localhost:8080/"
        },
        "id": "__k7vU4JV3WF",
        "outputId": "ba2eee8d-269e-4968-b666-f92f86066c6c"
      },
      "execution_count": 70,
      "outputs": [
        {
          "output_type": "execute_result",
          "data": {
            "text/plain": [
              "tensor([[1, 4],\n",
              "        [5, 0],\n",
              "        [3, 2]])"
            ]
          },
          "metadata": {},
          "execution_count": 70
        }
      ]
    },
    {
      "cell_type": "code",
      "source": [
        "h = torch.randint(size=(3,3), low=0, high=10, dtype=torch.float32) ###square matrix (n*n)"
      ],
      "metadata": {
        "id": "kEuPK0o0WWps"
      },
      "execution_count": 72,
      "outputs": []
    },
    {
      "cell_type": "code",
      "source": [
        "h"
      ],
      "metadata": {
        "colab": {
          "base_uri": "https://localhost:8080/"
        },
        "id": "PqKRp7hmWgR1",
        "outputId": "040de069-a3a9-462f-9ddf-9717d5943cc4"
      },
      "execution_count": 73,
      "outputs": [
        {
          "output_type": "execute_result",
          "data": {
            "text/plain": [
              "tensor([[6., 1., 9.],\n",
              "        [9., 0., 9.],\n",
              "        [2., 5., 9.]])"
            ]
          },
          "metadata": {},
          "execution_count": 73
        }
      ]
    },
    {
      "cell_type": "code",
      "source": [
        "torch.inverse(h)"
      ],
      "metadata": {
        "colab": {
          "base_uri": "https://localhost:8080/"
        },
        "id": "gNMS1zlBWORM",
        "outputId": "5fb1576f-22bf-41bd-82fd-26017a2abe77"
      },
      "execution_count": 74,
      "outputs": [
        {
          "output_type": "execute_result",
          "data": {
            "text/plain": [
              "tensor([[-0.6250,  0.5000,  0.1250],\n",
              "        [-0.8750,  0.5000,  0.3750],\n",
              "        [ 0.6250, -0.3889, -0.1250]])"
            ]
          },
          "metadata": {},
          "execution_count": 74
        }
      ]
    },
    {
      "cell_type": "code",
      "source": [
        "torch.log(h)"
      ],
      "metadata": {
        "colab": {
          "base_uri": "https://localhost:8080/"
        },
        "id": "A0oaAxVxWoXD",
        "outputId": "cf22d4fe-d504-487d-b36c-475a9507b7c8"
      },
      "execution_count": 75,
      "outputs": [
        {
          "output_type": "execute_result",
          "data": {
            "text/plain": [
              "tensor([[1.7918, 0.0000, 2.1972],\n",
              "        [2.1972,   -inf, 2.1972],\n",
              "        [0.6931, 1.6094, 2.1972]])"
            ]
          },
          "metadata": {},
          "execution_count": 75
        }
      ]
    },
    {
      "cell_type": "code",
      "source": [
        "torch.exp(h) #######exponential value"
      ],
      "metadata": {
        "colab": {
          "base_uri": "https://localhost:8080/"
        },
        "id": "5b3jgiVLWsj0",
        "outputId": "9339a0d4-f074-4432-eed2-b61a36301884"
      },
      "execution_count": 76,
      "outputs": [
        {
          "output_type": "execute_result",
          "data": {
            "text/plain": [
              "tensor([[4.0343e+02, 2.7183e+00, 8.1031e+03],\n",
              "        [8.1031e+03, 1.0000e+00, 8.1031e+03],\n",
              "        [7.3891e+00, 1.4841e+02, 8.1031e+03]])"
            ]
          },
          "metadata": {},
          "execution_count": 76
        }
      ]
    },
    {
      "cell_type": "code",
      "source": [
        "torch.softmax(h,0) ###0 means row wise"
      ],
      "metadata": {
        "colab": {
          "base_uri": "https://localhost:8080/"
        },
        "id": "1xaX0IhxWzFF",
        "outputId": "6ad3ff2e-c02f-41ab-f970-6c2b1d1abf44"
      },
      "execution_count": 78,
      "outputs": [
        {
          "output_type": "execute_result",
          "data": {
            "text/plain": [
              "tensor([[4.7385e-02, 1.7868e-02, 3.3333e-01],\n",
              "        [9.5175e-01, 6.5733e-03, 3.3333e-01],\n",
              "        [8.6788e-04, 9.7556e-01, 3.3333e-01]])"
            ]
          },
          "metadata": {},
          "execution_count": 78
        }
      ]
    },
    {
      "cell_type": "code",
      "source": [
        "torch.relu(h)"
      ],
      "metadata": {
        "colab": {
          "base_uri": "https://localhost:8080/"
        },
        "id": "d0zptRROW53k",
        "outputId": "c79efc5f-0b9a-46a8-f986-10f15b08dc24"
      },
      "execution_count": 79,
      "outputs": [
        {
          "output_type": "execute_result",
          "data": {
            "text/plain": [
              "tensor([[6., 1., 9.],\n",
              "        [9., 0., 9.],\n",
              "        [2., 5., 9.]])"
            ]
          },
          "metadata": {},
          "execution_count": 79
        }
      ]
    }
  ]
}